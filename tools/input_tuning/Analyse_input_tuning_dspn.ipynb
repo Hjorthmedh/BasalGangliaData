{
 "cells": [
  {
   "cell_type": "markdown",
   "id": "396177f4",
   "metadata": {},
   "source": [
    "# Analyse input tuning for dSPN\n",
    "\n",
    "On Dardel first run:\n",
    "\n",
    "```\n",
    "setup_input_tuning_dspn.sh\n",
    "sbatch Dardel_run_input_tuning_dspn.job\n",
    "```\n",
    "\n",
    "Then copy over the networks/input_tuning_dspn directory to the corresponding location on your local machine."
   ]
  },
  {
   "cell_type": "code",
   "execution_count": null,
   "id": "31eac505",
   "metadata": {},
   "outputs": [],
   "source": [
    "import os\n",
    "from snudda.input.input_tuning import InputTuning\n",
    "\n",
    "network_path = os.path.join(\"networks\", \"input_tuning_dspn\")\n",
    "input_tuning = InputTuning(network_path)"
   ]
  },
  {
   "cell_type": "code",
   "execution_count": null,
   "id": "c1966c30",
   "metadata": {},
   "outputs": [],
   "source": [
    "%matplotlib notebook\n",
    "\n",
    "input_tuning.analyse_results(show_plots=False)"
   ]
  },
  {
   "cell_type": "code",
   "execution_count": null,
   "id": "8909dd26",
   "metadata": {},
   "outputs": [],
   "source": []
  }
 ],
 "metadata": {
  "kernelspec": {
   "display_name": "Python 3 (ipykernel)",
   "language": "python",
   "name": "python3"
  },
  "language_info": {
   "codemirror_mode": {
    "name": "ipython",
    "version": 3
   },
   "file_extension": ".py",
   "mimetype": "text/x-python",
   "name": "python",
   "nbconvert_exporter": "python",
   "pygments_lexer": "ipython3",
   "version": "3.9.2"
  }
 },
 "nbformat": 4,
 "nbformat_minor": 5
}
