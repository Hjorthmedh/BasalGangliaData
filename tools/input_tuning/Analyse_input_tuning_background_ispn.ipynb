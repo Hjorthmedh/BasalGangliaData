{
 "cells": [
  {
   "cell_type": "markdown",
   "id": "396177f4",
   "metadata": {},
   "source": [
    "# Analyse background input tuning for iSPN\n",
    "\n",
    "### First run the background input simulation on Dardel\n",
    "\n",
    "On Dardel first run:\n",
    "\n",
    "```\n",
    "sbatch Dardel_run_input_tuning_background_ispn.job\n",
    "```\n",
    "\n",
    "Then copy over the networks/input_tuning_dspn directory to the corresponding location on your local machine.\n",
    "\n",
    "In my case that is (all one very long line):\n",
    "\n",
    "```\n",
    "scp -pr dardel.pdc.kth.se:/cfs/klemming/home/h/hjorth/Snudda/examples/parallel/KTH_PDC/input_tuning/networks/input_tuning_ispn_background networks/\n",
    "```\n",
    "\n",
    "### Analyse the background simulation"
   ]
  },
  {
   "cell_type": "code",
   "execution_count": null,
   "id": "31eac505",
   "metadata": {
    "tags": []
   },
   "outputs": [],
   "source": [
    "import os\n",
    "from snudda.input.input_tuning import InputTuning\n",
    "\n",
    "network_path = os.path.join(\"networks\", \"input_tuning_ispn_background\")\n",
    "BG_data = \"../../../../../BasalGangliaData/data/\"\n",
    "input_tuning = InputTuning(network_path, snudda_data=BG_data, input_seed_list=[10,20,30,40,50])\n",
    "\n",
    "requested_frequency = 10.0"
   ]
  },
  {
   "cell_type": "code",
   "execution_count": null,
   "id": "c1966c30",
   "metadata": {
    "scrolled": true
   },
   "outputs": [],
   "source": [
    "background_input = input_tuning.find_highest_non_spiking_background_input(show_plot=False)"
   ]
  },
  {
   "cell_type": "markdown",
   "id": "e9713eb9",
   "metadata": {},
   "source": [
    "### Update your SNUDDA_DATA with the new background input \n",
    "\n",
    "This updates the ```meta.json``` file for each of the neurons."
   ]
  },
  {
   "cell_type": "code",
   "execution_count": null,
   "id": "851d86a7",
   "metadata": {},
   "outputs": [],
   "source": [
    "input_tuning.update_meta(background_input, overwrite=True)"
   ]
  },
  {
   "cell_type": "markdown",
   "id": "4c52a61d",
   "metadata": {},
   "source": [
    "### Run the input signal calibration on Dardel\n",
    "\n",
    "```sbatch Dardel_run_input_tuning_cortical_signal_ispn.job ```\n",
    "\n",
    "Then after the run finishes copy over the files to your local machine:\n",
    "\n",
    "```\n",
    "scp -pr dardel.pdc.kth.se:/cfs/klemming/home/h/hjorth/Snudda/examples/parallel/KTH_PDC/input_tuning/networks/input_tuning_ispn_cortical_signal networks/\n",
    "```\n",
    "\n",
    "### Find the optimal number of synapses for the signal\n",
    "\n",
    "Here as a starting point we aim to have approximately 10Hz firing when there is 10Hz input frequency to the synapses."
   ]
  },
  {
   "cell_type": "code",
   "execution_count": null,
   "id": "3cacd126",
   "metadata": {},
   "outputs": [],
   "source": [
    "network_path = os.path.join(\"networks\", \"input_tuning_ispn_cortical_signal_10Hz\")\n",
    "BG_data = \"../../../../../BasalGangliaData/data/\"\n",
    "input_tuning_cortical = InputTuning(network_path, snudda_data=BG_data, input_seed_list=[10,20,30,40,50])"
   ]
  },
  {
   "cell_type": "code",
   "execution_count": null,
   "id": "f17f1a0b",
   "metadata": {
    "scrolled": true
   },
   "outputs": [],
   "source": [
    "input_signal = input_tuning_cortical.find_signal_strength(requested_frequency=requested_frequency, show_plot=False)"
   ]
  },
  {
   "cell_type": "markdown",
   "id": "a1a538d7",
   "metadata": {},
   "source": [
    "### Update the SNUDDA_DATA with the new cortical signal \n",
    "\n",
    "Important, we will set the signal frequency to 0Hz, so the user can update it themselves by overriding the frequency in the ```input.json``` file."
   ]
  },
  {
   "cell_type": "code",
   "execution_count": null,
   "id": "60c61f35",
   "metadata": {},
   "outputs": [],
   "source": [
    "input_tuning_cortical.update_meta(input_signal, overwrite=False, set_frequency=0.0)"
   ]
  },
  {
   "cell_type": "markdown",
   "id": "1130db65",
   "metadata": {},
   "source": [
    "## Run the thalamic input signal calibration on Dardel\n",
    "\n",
    "```sbatch Dardel_run_input_tuning_thalamic_signal_ispn.job ```\n",
    "\n",
    "Then after the run finishes copy over the files to your local machine:\n",
    "\n",
    "```\n",
    "scp -pr dardel.pdc.kth.se:/cfs/klemming/home/h/hjorth/Snudda/examples/parallel/KTH_PDC/input_tuning/networks/input_tuning_ispn_thalamic_signal networks/\n",
    "```\n",
    "\n",
    "### Find the optimal number of synapses for the signal\n",
    "\n",
    "Here as a starting point we aim to have approximately 40Hz firing when there is 10Hz input frequency to the synapses."
   ]
  },
  {
   "cell_type": "code",
   "execution_count": null,
   "id": "4e938b57",
   "metadata": {},
   "outputs": [],
   "source": [
    "network_path = os.path.join(\"networks\", \"input_tuning_ispn_thalamic_signal_10Hz\")\n",
    "BG_data = \"../../../../../BasalGangliaData/data/\"\n",
    "input_tuning_thalamic = InputTuning(network_path, snudda_data=BG_data, input_seed_list=[10,20,30,40,50])"
   ]
  },
  {
   "cell_type": "code",
   "execution_count": null,
   "id": "373cc618",
   "metadata": {
    "scrolled": true
   },
   "outputs": [],
   "source": [
    "input_signal2 = input_tuning_thalamic.find_signal_strength(requested_frequency=requested_frequency, show_plot=False)"
   ]
  },
  {
   "cell_type": "markdown",
   "id": "a255c671",
   "metadata": {},
   "source": [
    "### Update the SNUDDA_DATA with the new thalamic signal \n",
    "\n",
    "Important, we will set the signal frequency to 0Hz, so the user can update it themselves by overriding the frequency in the ```input.json``` file."
   ]
  },
  {
   "cell_type": "code",
   "execution_count": null,
   "id": "6395be95",
   "metadata": {},
   "outputs": [],
   "source": [
    "input_tuning_thalamic.update_meta(input_signal2, overwrite=False, set_frequency=0.0)"
   ]
  },
  {
   "cell_type": "markdown",
   "id": "6fa82b26-b9a4-40ec-a746-8325c3fb374b",
   "metadata": {},
   "source": [
    "## Purging bad meta input\n",
    "\n",
    "in ```networks/input_tuning_ispn_cortical_signal_10Hz/figures``` and ```networks/input_tuning_ispn_thalamic_signal_10Hz/figures``` figures are stored showing the tuning, create a subfolder ```_bad``` and move the bad traces to that folder. Then you can use ```purge_bad_parameters.py``` to remove the bad parameter sets from the ```meta.json``` files for each neuron. See ```purge_bad.sh```. Be careful, make sure the original meta.json are in git before running, since the old data will be overwritten."
   ]
  },
  {
   "cell_type": "markdown",
   "id": "0e9a6878-8d2b-4171-bcc9-fd55dc8d07f9",
   "metadata": {},
   "source": [
    "## Bonus -- cortical contralateral input"
   ]
  },
  {
   "cell_type": "markdown",
   "id": "176c1a05-0a8e-47de-ba2c-e171f04f913e",
   "metadata": {
    "tags": []
   },
   "source": [
    "network_path = os.path.join(\"networks\", \"input_tuning_ispn_cortical_contralateral_signal_10Hz\")\n",
    "input_tuning_cortical_contralateral = InputTuning(network_path, snudda_data=\"../../../../../BasalGangliaData/data/\", input_seed_list=[10,20,30,40,50])"
   ]
  },
  {
   "cell_type": "markdown",
   "id": "bdbf8042-e640-464b-bb07-ae9e30198d9d",
   "metadata": {
    "tags": []
   },
   "source": [
    "input_signal = input_tuning_cortical_contralateral.find_signal_strength(requested_frequency=requested_frequency, show_plot=False)"
   ]
  },
  {
   "cell_type": "markdown",
   "id": "6ffdf065-dad0-46cf-9447-97053f42d54e",
   "metadata": {
    "tags": []
   },
   "source": [
    "input_tuning_cortical_contralateral.update_meta(input_signal, overwrite=False, set_frequency=0.0)"
   ]
  },
  {
   "cell_type": "markdown",
   "id": "e1da650b-6512-4d2d-86f2-5930a47834f3",
   "metadata": {},
   "source": [
    "## Bonus #2 -- clustered input"
   ]
  },
  {
   "cell_type": "markdown",
   "id": "bb9b1e8e-0a36-4860-9061-1efce6406a43",
   "metadata": {
    "tags": []
   },
   "source": [
    "network_path = os.path.join(\"networks\", \"input_tuning_ispn_cortical-clustered_signal_10Hz\")\n",
    "input_tuning_cortical_clustered = InputTuning(network_path, snudda_data=\"../../../../../BasalGangliaData/data/\", input_seed_list=[10,20,30,40,50])"
   ]
  },
  {
   "cell_type": "markdown",
   "id": "4eddc315-9a13-4ff1-92f5-362a46613faa",
   "metadata": {
    "tags": []
   },
   "source": [
    "input_signal = input_tuning_cortical_clustered.find_signal_strength(requested_frequency=requested_frequency, show_plot=False)"
   ]
  },
  {
   "cell_type": "markdown",
   "id": "17e82ade-9e1a-4e13-b43d-5d94bc2e917d",
   "metadata": {
    "tags": []
   },
   "source": [
    "input_tuning_cortical_clustered.update_meta(input_signal, overwrite=False, set_frequency=0.0)"
   ]
  },
  {
   "cell_type": "markdown",
   "id": "d9b8805e-220d-43f6-8ffa-93684fb02d42",
   "metadata": {},
   "source": [
    "## Bonus #3 -- correlated input"
   ]
  },
  {
   "cell_type": "markdown",
   "id": "c94efa0b-c3db-4cf8-b271-25007f7ec292",
   "metadata": {
    "tags": []
   },
   "source": [
    "network_path = os.path.join(\"networks\", \"input_tuning_ispn_cortical-correlated_signal_10Hz\")\n",
    "input_tuning_cortical_correlated = InputTuning(network_path, snudda_data=\"../../../../../BasalGangliaData/data/\", input_seed_list=[10,20,30,40,50])"
   ]
  },
  {
   "cell_type": "markdown",
   "id": "d2f6758b-2f5d-4040-a696-6c6778ecefc8",
   "metadata": {
    "tags": []
   },
   "source": [
    "input_signal = input_tuning_cortical_correlated.find_signal_strength(requested_frequency=requested_frequency, show_plot=False)"
   ]
  },
  {
   "cell_type": "markdown",
   "id": "8dce03c8-ca1a-4853-bc35-9fad3e9bae3d",
   "metadata": {
    "tags": []
   },
   "source": [
    "input_tuning_cortical_correlated.update_meta(input_signal, overwrite=False, set_frequency=0.0)"
   ]
  },
  {
   "cell_type": "code",
   "execution_count": null,
   "id": "acfd195e-d2a6-4892-a1c1-a3878219d9ad",
   "metadata": {},
   "outputs": [],
   "source": []
  }
 ],
 "metadata": {
  "kernelspec": {
   "display_name": "Python 3 (ipykernel)",
   "language": "python",
   "name": "python3"
  },
  "language_info": {
   "codemirror_mode": {
    "name": "ipython",
    "version": 3
   },
   "file_extension": ".py",
   "mimetype": "text/x-python",
   "name": "python",
   "nbconvert_exporter": "python",
   "pygments_lexer": "ipython3",
   "version": "3.9.2"
  }
 },
 "nbformat": 4,
 "nbformat_minor": 5
}
