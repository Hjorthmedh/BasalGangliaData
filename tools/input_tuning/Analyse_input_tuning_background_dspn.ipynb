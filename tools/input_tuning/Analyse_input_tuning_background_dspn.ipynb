{
 "cells": [
  {
   "cell_type": "markdown",
   "id": "396177f4",
   "metadata": {},
   "source": [
    "# Analyse background input tuning for dSPN\n",
    "\n",
    "### First run the background input simulation on Dardel\n",
    "\n",
    "On Dardel first run:\n",
    "\n",
    "```\n",
    "sbatch Dardel_run_input_tuning_background_dspn.job\n",
    "```\n",
    "\n",
    "Then copy over the networks/input_tuning_dspn directory to the corresponding location on your local machine.\n",
    "\n",
    "In my case that is (all one very long line):\n",
    "\n",
    "```\n",
    "scp -pr dardel.pdc.kth.se:/cfs/klemming/home/h/hjorth/Snudda/examples/parallel/KTH_PDC/input_tuning/networks/input_tuning_dspn_background networks/\n",
    "```\n",
    "\n",
    "### Analyse the background simulation"
   ]
  },
  {
   "cell_type": "code",
   "execution_count": null,
   "id": "31eac505",
   "metadata": {
    "tags": []
   },
   "outputs": [],
   "source": [
    "import os\n",
    "import numpy as np\n",
    "from snudda.input.input_tuning import InputTuning"
   ]
  },
  {
   "cell_type": "code",
   "execution_count": null,
   "id": "010f3081",
   "metadata": {},
   "outputs": [],
   "source": [
    "network_path = os.path.join(\"networks\", \"input_tuning_dspn_background\")\n",
    "BG_data = \"../../../../../BasalGangliaData/data/\"\n",
    "input_tuning = InputTuning(network_path, snudda_data=BG_data, input_seed_list=[10,20,30,40,50])\n",
    "\n",
    "requested_frequency = 10.0"
   ]
  },
  {
   "cell_type": "code",
   "execution_count": null,
   "id": "c1966c30",
   "metadata": {
    "scrolled": true
   },
   "outputs": [],
   "source": [
    "background_input = input_tuning.find_highest_non_spiking_background_input(show_plot=False)"
   ]
  },
  {
   "cell_type": "markdown",
   "id": "e9713eb9",
   "metadata": {},
   "source": [
    "### Update your SNUDDA_DATA with the new background input \n",
    "\n",
    "This updates the ```meta.json``` file for each of the neurons."
   ]
  },
  {
   "cell_type": "code",
   "execution_count": null,
   "id": "851d86a7",
   "metadata": {},
   "outputs": [],
   "source": [
    "input_tuning.update_meta(background_input, overwrite=True)"
   ]
  },
  {
   "cell_type": "markdown",
   "id": "4c52a61d",
   "metadata": {},
   "source": [
    "## Run the cortical input signal calibration on Dardel\n",
    "\n",
    "```sbatch Dardel_run_input_tuning_cortical_signal_dspn.job ```\n",
    "\n",
    "Then after the run finishes copy over the files to your local machine:\n",
    "\n",
    "```\n",
    "scp -pr dardel.pdc.kth.se:/cfs/klemming/home/h/hjorth/Snudda/examples/parallel/KTH_PDC/input_tuning/networks/input_tuning_dspn_cortical_signal networks/\n",
    "```\n",
    "\n",
    "### Find the optimal number of synapses for the signal\n",
    "\n",
    "Here as a starting point we aim to have approximately 40Hz firing when there is 10Hz input frequency to the synapses."
   ]
  },
  {
   "cell_type": "code",
   "execution_count": null,
   "id": "3cacd126",
   "metadata": {},
   "outputs": [],
   "source": [
    "network_path = os.path.join(\"networks\", \"input_tuning_dspn_cortical_signal_10Hz\")\n",
    "BG_data = \"../../../../../BasalGangliaData/data/\"\n",
    "input_tuning_cortical = InputTuning(network_path, snudda_data=BG_data, input_seed_list=[10,20,30,40,50])\n",
    "# input_tuning_cortical = InputTuning(network_path, snudda_data=BG_data, input_seed_list=[10,20,30])"
   ]
  },
  {
   "cell_type": "code",
   "execution_count": null,
   "id": "be9d3e7d",
   "metadata": {
    "scrolled": true
   },
   "outputs": [],
   "source": [
    "input_signal = input_tuning_cortical.find_signal_strength(requested_frequency=requested_frequency, show_plot=False)"
   ]
  },
  {
   "cell_type": "markdown",
   "id": "87dee228-23cb-4eed-b5a8-3dfef1e503b2",
   "metadata": {},
   "source": [
    "input_tuning_cortical.plot_voltage_trace(parameter_key=\"pe686869f\", morphology_key=\"m87b2f4c5\", mp_idx=[11], time_range=(2,3))"
   ]
  },
  {
   "cell_type": "markdown",
   "id": "7fcf5b1a-06d2-404b-8bce-995d285edce8",
   "metadata": {},
   "source": [
    "input_tuning_cortical.plot_voltage_trace(parameter_key=\"pd01\", morphology_key=\"mc710\", mp_idx=[3])"
   ]
  },
  {
   "cell_type": "code",
   "execution_count": null,
   "id": "168677b1",
   "metadata": {},
   "outputs": [],
   "source": [
    "# input_tuning_cortical.plot_voltage_trace(parameter_key=\"p817\", morphology_key=\"m82b\")"
   ]
  },
  {
   "cell_type": "markdown",
   "id": "4c9a4585-eeb7-4d7c-8ae0-a9ca0cd34a19",
   "metadata": {},
   "source": [
    "input_tuning_cortical.plot_voltage_trace(parameter_key=\"p4e9\", morphology_key=\"m71f\", mp_idx=[4], time_range=None)"
   ]
  },
  {
   "cell_type": "markdown",
   "id": "a1a538d7",
   "metadata": {},
   "source": [
    "### Update the SNUDDA_DATA with the new cortical signal \n",
    "\n",
    "Important, we will set the signal frequency to 0Hz, so the user can update it themselves by overriding the frequency in the ```input.json``` file."
   ]
  },
  {
   "cell_type": "code",
   "execution_count": null,
   "id": "60c61f35",
   "metadata": {},
   "outputs": [],
   "source": [
    "input_tuning_cortical.update_meta(input_signal, overwrite=False, set_frequency=0.0)"
   ]
  },
  {
   "cell_type": "markdown",
   "id": "ea2eba29",
   "metadata": {},
   "source": [
    "## Run the thalamic input signal calibration on Dardel\n",
    "\n",
    "```sbatch Dardel_run_input_tuning_thalamic_signal_dspn.job ```\n",
    "\n",
    "Then after the run finishes copy over the files to your local machine:\n",
    "\n",
    "```\n",
    "scp -pr dardel.pdc.kth.se:/cfs/klemming/home/h/hjorth/Snudda/examples/parallel/KTH_PDC/input_tuning/networks/input_tuning_dspn_thalamic_signal networks/\n",
    "```\n",
    "\n",
    "### Find the optimal number of synapses for the signal\n",
    "\n",
    "Here as a starting point we aim to have approximately 40Hz firing when there is 10Hz input frequency to the synapses."
   ]
  },
  {
   "cell_type": "code",
   "execution_count": null,
   "id": "2a62855b",
   "metadata": {},
   "outputs": [],
   "source": [
    "network_path = os.path.join(\"networks\", \"input_tuning_dspn_thalamic_signal_10Hz\")\n",
    "BG_data = \"../../../../../BasalGangliaData/data/\"\n",
    "input_tuning_thalamic = InputTuning(network_path, snudda_data=BG_data, input_seed_list=[10,20,30,40,50])\n",
    "# input_tuning_thalamic = InputTuning(network_path, snudda_data=BG_data, input_seed_list=[10,20,30,40])"
   ]
  },
  {
   "cell_type": "code",
   "execution_count": null,
   "id": "fe72af78-bde6-4f53-910d-8bbb1a9e99ff",
   "metadata": {
    "scrolled": true,
    "tags": []
   },
   "outputs": [],
   "source": [
    "input_signal2 = input_tuning_thalamic.find_signal_strength(requested_frequency=requested_frequency, show_plot=False)"
   ]
  },
  {
   "cell_type": "code",
   "execution_count": null,
   "id": "08f5f950",
   "metadata": {},
   "outputs": [],
   "source": [
    "# input_tuning_thalamic.plot_voltage_trace(parameter_key=\"p817\", morphology_key=\"m82b\")"
   ]
  },
  {
   "cell_type": "markdown",
   "id": "ec466be2",
   "metadata": {},
   "source": [
    "### Update the SNUDDA_DATA with the new thalamic signal \n",
    "\n",
    "Important, we will set the signal frequency to 0Hz, so the user can update it themselves by overriding the frequency in the ```input.json``` file."
   ]
  },
  {
   "cell_type": "code",
   "execution_count": null,
   "id": "64cd6d7c",
   "metadata": {},
   "outputs": [],
   "source": [
    "input_tuning_thalamic.update_meta(input_signal2, overwrite=False, set_frequency=0.0)"
   ]
  },
  {
   "cell_type": "markdown",
   "id": "c6a6e7cf-48db-4b58-a1c4-ef492836d9ae",
   "metadata": {},
   "source": [
    "## Purging bad meta input\n",
    "\n",
    "in ```networks/input_tuning_dspn_cortical_signal_10Hz/figures``` and ```networks/input_tuning_dspn_thalamic_signal_10Hz/figures``` figures are stored showing the tuning, create a subfolder ```_bad``` and move the bad traces to that folder. Then you can use ```purge_bad_parameters.py``` to remove the bad parameter sets from the ```meta.json``` files for each neuron. See ```purge_bad.sh```. Be careful, make sure the original meta.json are in git before running, since the old data will be overwritten."
   ]
  },
  {
   "cell_type": "markdown",
   "id": "1446041d-7a6a-4a70-b812-0f709c4218a2",
   "metadata": {},
   "source": [
    "## Bonus -- cortical contralateral input"
   ]
  },
  {
   "cell_type": "markdown",
   "id": "f35eb355-58d6-49c6-8a4f-cee00b311f6b",
   "metadata": {
    "tags": []
   },
   "source": [
    "network_path = os.path.join(\"networks\", \"input_tuning_dspn_cortical_contralateral_signal_10Hz\")\n",
    "input_tuning_cortical_contralateral = InputTuning(network_path, snudda_data=\"../../../../../BasalGangliaData/data/\", input_seed_list=[10,20,30,40,50])"
   ]
  },
  {
   "cell_type": "markdown",
   "id": "0f9e969d-1c76-47bc-864c-e9d96252397a",
   "metadata": {
    "tags": []
   },
   "source": [
    "input_signal = input_tuning_cortical_contralateral.find_signal_strength(requested_frequency=requested_frequency, show_plot=False)"
   ]
  },
  {
   "cell_type": "markdown",
   "id": "ed27ff59-faa1-408f-a2c2-f03cca393179",
   "metadata": {
    "tags": []
   },
   "source": [
    "input_tuning_cortical_contralateral.update_meta(input_signal, overwrite=False, set_frequency=0.0)"
   ]
  },
  {
   "cell_type": "markdown",
   "id": "da45e0b2-91de-45bb-b8c3-3e3c317f3fcf",
   "metadata": {},
   "source": [
    "# Bonus #2-- clustered input"
   ]
  },
  {
   "cell_type": "markdown",
   "id": "c8bf1ba8-4c33-4b6a-8bb2-d0ec2e0c97c0",
   "metadata": {
    "tags": []
   },
   "source": [
    "network_path = os.path.join(\"networks\", \"input_tuning_dspn_cortical-clustered_signal_10Hz\")\n",
    "input_tuning_cortical_clustered = InputTuning(network_path, snudda_data=\"../../../../../BasalGangliaData/data/\", input_seed_list=[10,20,30,40,50])"
   ]
  },
  {
   "cell_type": "markdown",
   "id": "c01b4297-6b93-47b1-ac3e-974308b1784a",
   "metadata": {
    "tags": []
   },
   "source": [
    "input_signal = input_tuning_cortical_clustered.find_signal_strength(requested_frequency=requested_frequency, show_plot=False)"
   ]
  },
  {
   "cell_type": "markdown",
   "id": "1350ab41-f580-4eaa-9a8c-3a27b8206ae4",
   "metadata": {
    "tags": []
   },
   "source": [
    "input_tuning_cortical_clustered.update_meta(input_signal, overwrite=False, set_frequency=0.0)"
   ]
  },
  {
   "cell_type": "markdown",
   "id": "8b14846c-83f6-4a5a-89ac-bb6b762e387b",
   "metadata": {},
   "source": [
    "# Bonus #3 -- correlated input\n"
   ]
  },
  {
   "cell_type": "markdown",
   "id": "5326c9ab-c3a6-4c03-88a9-1514f1c5f44f",
   "metadata": {
    "tags": []
   },
   "source": [
    "network_path = os.path.join(\"networks\", \"input_tuning_dspn_cortical-correlated_signal_10Hz\")\n",
    "input_tuning_cortical_correlated = InputTuning(network_path, snudda_data=\"../../../../../BasalGangliaData/data/\", input_seed_list=[10,20,30,40,50])"
   ]
  },
  {
   "cell_type": "markdown",
   "id": "c2ca4478-894b-4d58-872b-a28f98d27d18",
   "metadata": {
    "tags": []
   },
   "source": [
    "input_signal = input_tuning_cortical_correlated.find_signal_strength(requested_frequency=requested_frequency, show_plot=False)"
   ]
  },
  {
   "cell_type": "markdown",
   "id": "33f1ce1c-17be-41bc-a8b9-9c55c1aaf02b",
   "metadata": {
    "tags": []
   },
   "source": [
    "input_tuning_cortical_correlated.update_meta(input_signal, overwrite=False, set_frequency=0.0)"
   ]
  },
  {
   "cell_type": "code",
   "execution_count": null,
   "id": "902698eb-9f91-48c8-9355-edfda18b8715",
   "metadata": {},
   "outputs": [],
   "source": [
    "input_tuning_cortical"
   ]
  },
  {
   "cell_type": "code",
   "execution_count": null,
   "id": "9671f8c7-cec2-440b-83d3-2517b60a1a85",
   "metadata": {},
   "outputs": [],
   "source": [
    "input_signal"
   ]
  },
  {
   "cell_type": "code",
   "execution_count": null,
   "id": "c9fb453e-1239-44f5-8b35-98724325d356",
   "metadata": {},
   "outputs": [],
   "source": [
    "[x for x in list(input_signal.keys()) if \"pd45a06eb\" in x]"
   ]
  },
  {
   "cell_type": "code",
   "execution_count": null,
   "id": "4c9eeec6-52fc-404c-b27b-3a1d9c8d51db",
   "metadata": {},
   "outputs": [],
   "source": [
    "input_signal[\"dspn_str_dspn_e_pd45a06eb_m28161f46\"]"
   ]
  },
  {
   "cell_type": "code",
   "execution_count": null,
   "id": "42ce4b2e-873c-4467-84b1-04b7795a8549",
   "metadata": {},
   "outputs": [],
   "source": []
  }
 ],
 "metadata": {
  "kernelspec": {
   "display_name": "Python 3 (ipykernel)",
   "language": "python",
   "name": "python3"
  },
  "language_info": {
   "codemirror_mode": {
    "name": "ipython",
    "version": 3
   },
   "file_extension": ".py",
   "mimetype": "text/x-python",
   "name": "python",
   "nbconvert_exporter": "python",
   "pygments_lexer": "ipython3",
   "version": "3.9.2"
  }
 },
 "nbformat": 4,
 "nbformat_minor": 5
}
