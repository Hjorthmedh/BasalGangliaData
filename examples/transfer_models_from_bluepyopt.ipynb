{
 "cells": [
  {
   "cell_type": "markdown",
   "id": "50b0f1b1-fe0f-4b33-85b0-6b334720b3d4",
   "metadata": {},
   "source": [
    "## How to transfer your model from BluePyOpt to Basal Ganglia Data (using Snudda format)"
   ]
  },
  {
   "cell_type": "markdown",
   "id": "b5259388-09fa-4b22-b7d7-07f4bbb964b1",
   "metadata": {},
   "source": [
    "### Structure of the BluePyOpt model "
   ]
  },
  {
   "cell_type": "markdown",
   "id": "0c9aa334-1345-460a-9280-2e3660f49815",
   "metadata": {},
   "source": [
    "The model optimisation should be a folder, containing the follow files and subdirectories:\n",
    "\n",
    "    model/\n",
    "        config/\n",
    "                parameters.json\n",
    "                mechanisms.json\n",
    "        morphology/\n",
    "                contain one or several morphologies (.swc)\n",
    "                used for the model\n",
    "        hall_of_fame.json ( contain the parameter sets - the results of the optimisation)\n",
    "        val_models.json ( optional file, if several morphologies are used, the parameter sets which match each morphology)\n",
    "        \n",
    "For an example of the structure and contents of the files, see **BasalGangliaData/tests/test_data/example_variation_source**\n",
    "                \n",
    "       \n",
    "                \n",
    "    "
   ]
  },
  {
   "cell_type": "markdown",
   "id": "c7af3509-ebe1-44a6-bace-6098714aa99c",
   "metadata": {},
   "source": [
    "The transfer has been divided into several steps."
   ]
  },
  {
   "cell_type": "markdown",
   "id": "b484113e-66b9-4ed7-8d16-8963b1687868",
   "metadata": {},
   "source": [
    "Create directory for the model.\n",
    "    \n",
    "    Within BasalGangliaData, the models used in Snudda are saved under\n",
    "    BasalGangliaData/data/neurons/name_of_nucleus\n",
    "\n",
    "    **If the nucleus does not exist, add a folder for the new nucleus**\n",
    "\n",
    "    Next create (if it does not already exist), a folder for each cell type within the nucleus\n",
    "\n",
    "    Lastly, create the folder for each model of the cell type \n",
    "    (this folder will be the **destination** used in the code below)\n",
    "\n",
    "     For example,\n",
    "\n",
    "     BasalGanglia/data/neurons/newnucleus/new_celltype/new_model\n",
    "        \n",
    "    "
   ]
  },
  {
   "cell_type": "markdown",
   "id": "b8f5ba48-4751-4e05-a818-fd651bf9da42",
   "metadata": {},
   "source": [
    "### Add tools to your path"
   ]
  },
  {
   "cell_type": "markdown",
   "id": "8b73b5fa-9533-4c19-b42d-05017c808074",
   "metadata": {},
   "source": [
    "```\n",
    "import sys\n",
    "sys.path.append(\"../tools\")\n",
    "source = \"where the Bluepyopt optimisation, with the structure described above\"\n",
    "destination = \"BasalGanglia/data/neurons/newnucleus/new_celltype/new_model\"\n",
    "```"
   ]
  },
  {
   "cell_type": "markdown",
   "id": "2bbac983-3d0b-40c4-be32-412e2b004975",
   "metadata": {},
   "source": [
    "### Transfer mechanisms"
   ]
  },
  {
   "cell_type": "markdown",
   "id": "5dd37000-68fd-4f55-8b66-c1a0e1541b31",
   "metadata": {},
   "source": [
    "```\n",
    "from transfer.mechanisms import transfer_mechanisms\n",
    "transfer_mechanisms(source=source, destination=destination)\n",
    "```"
   ]
  },
  {
   "cell_type": "markdown",
   "id": "a645aa45-d58f-4d57-ab65-73d28226ed99",
   "metadata": {},
   "source": [
    "### Transfer parameters"
   ]
  },
  {
   "cell_type": "markdown",
   "id": "69113366-dc59-44b3-9f8c-1127e2251e61",
   "metadata": {},
   "source": [
    "```\n",
    "from transfer.parameters import transfer_parameters\n",
    "transfer_parameters(source=source,\n",
    "                            destination=destination,\n",
    "                            selected=True)\n",
    "```"
   ]
  },
  {
   "cell_type": "markdown",
   "id": "e95701d6-355e-458e-93bc-50665d141e04",
   "metadata": {
    "tags": []
   },
   "source": [
    "### Transfer selected models from val_models.json"
   ]
  },
  {
   "cell_type": "markdown",
   "id": "67a74d40-2174-46f0-a3b4-4b030be79f6d",
   "metadata": {},
   "source": [
    "```\n",
    "from transfer.selected_models import transfer_selected_models\n",
    "transfer_selected_models(source=source, destination=destination)\n",
    "```"
   ]
  },
  {
   "cell_type": "markdown",
   "id": "434a595b-2e53-4935-9c2d-0a2ffa2085b0",
   "metadata": {},
   "source": [
    "### Transfer morphologies"
   ]
  },
  {
   "cell_type": "markdown",
   "id": "a54dbe37-45ec-4b1d-a2f9-9f9a7ec2b2e0",
   "metadata": {},
   "source": [
    "```\n",
    "from transfer.morphology import transfer_morphologies\n",
    "transfer_morphologies(source=source,\n",
    "                              destination=destination,\n",
    "                              selected=True)\n",
    "```"
   ]
  },
  {
   "cell_type": "markdown",
   "id": "01eba452-9682-4eae-aff5-90688d6cf654",
   "metadata": {},
   "source": [
    "### Create the meta.json which combines all information on the model"
   ]
  },
  {
   "cell_type": "markdown",
   "id": "221fa809-a4c0-4bdb-a778-a56d7f576caa",
   "metadata": {},
   "source": [
    "```\n",
    "from meta.create_meta import write_meta\n",
    "write_meta(directory=destination, selected=True)\n",
    "```"
   ]
  },
  {
   "cell_type": "code",
   "execution_count": null,
   "id": "51c6280a-9c75-4cd1-8f99-81e9e4fb968f",
   "metadata": {},
   "outputs": [],
   "source": []
  }
 ],
 "metadata": {
  "kernelspec": {
   "display_name": "Python 3",
   "language": "python",
   "name": "python3"
  },
  "language_info": {
   "codemirror_mode": {
    "name": "ipython",
    "version": 3
   },
   "file_extension": ".py",
   "mimetype": "text/x-python",
   "name": "python",
   "nbconvert_exporter": "python",
   "pygments_lexer": "ipython3",
   "version": "3.7.10"
  }
 },
 "nbformat": 4,
 "nbformat_minor": 5
}
