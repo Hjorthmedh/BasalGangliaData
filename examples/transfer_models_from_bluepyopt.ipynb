{
 "cells": [
  {
   "cell_type": "markdown",
   "id": "3c28c787-589c-4017-9a6a-af85eac75fca",
   "metadata": {},
   "source": [
    "# Example on how to transfer models from BPO to snudda\n",
    "The easiest way to transfer models is to use the script:  \n",
    "**simple_transfer.py**  \n",
    "\n",
    "If simple_transfer.py fails, use the below basic options\n",
    "\n",
    "### Examples\n",
    "Transfer one model from *source* (-s) and store in *destination* (-d):  \n",
    "\n",
    ">python simple_transfer.py **-s** ../../Alex_model_repo/models/optim/HBP-2022Q2/str-fs-e161205_FS1-mBE104E-v20220614/\n",
    ">                          **-d** ../data/neurons/striatum/fs/\n",
    "\n",
    "To transfer all the models in a directory, use the below command:  \n",
    "\n",
    ">python simple_transfer.py **-s** ../../Alex_model_repo/models/optim/HBP-2022Q2/ **-d** ../data/neurons/striatum/  **-a 1**\n",
    "\n",
    "which will transfer all the models in the subdir of HBP-2022Q2 and sort them into respective model directory of striatum (e.g. dspn or fs).  \n",
    "The sorting assumes that the model name is of the format /region-type-additional_info/, e.g. str-dspn-...  \n",
    "If this is not the case, the model will be skipped.  \n",
    "\n",
    "Models that already exist in the output folder will also be skipped.\n",
    "\n",
    "In order to se all the options, run below command in a terminal:  \n",
    "\n",
    ">python simple_transfer.py -h\n",
    "\n",
    "The transfer is an automated version of the 3 options described below.\n",
    "\n",
    "**TODO:** \n",
    "* show non-terminal example here as well\n",
    "\n",
    "## Prefer to transfer from here directly (or in a script)?\n",
    "use below examples with updated source and destination  \n",
    "\n"
   ]
  },
  {
   "cell_type": "code",
   "execution_count": 1,
   "id": "8d9857e1-dcd5-4349-9a4d-83ad8b533166",
   "metadata": {},
   "outputs": [],
   "source": [
    "import os, shutil\n",
    "import simple_transfer as st"
   ]
  },
  {
   "cell_type": "code",
   "execution_count": 2,
   "id": "9dc9e294-d7d3-47d2-aebc-216783957326",
   "metadata": {},
   "outputs": [
    {
     "name": "stdout",
     "output_type": "stream",
     "text": [
      "\n",
      "tranfering source: \n",
      "\texample_models/str-fs-model1/ \n",
      "to destination \n",
      "\tTransfered_models/fs/str-fs-model1/\n",
      "\n",
      "using opt_file: val_models.json\n",
      "\n",
      "mechanims file transfer complete\n",
      "Parameter file transfer complete\n",
      "Morphology file transfer complete\n",
      "\n",
      "---transfer complete---\n"
     ]
    }
   ],
   "source": [
    "# single model transfer\n",
    "source = 'example_models/str-fs-model1/'\n",
    "folder = os.path.basename(os.path.normpath(source))\n",
    "destination = f'Transfered_models/fs/{folder}'\n",
    "\n",
    "# the transfer can only be done if the folder does not exist\n",
    "# CAREFUL: the below command will delete the destination if it already exists (and all existing subfolders)\n",
    "# uncomment to delete destination (if exists)\n",
    "\n",
    "#if os.path.exists(destination) and os.path.isdir(destination):\n",
    "#    shutil.rmtree(destination)\n",
    "\n",
    "# transfer\n",
    "st.transfer_single(source, destination)"
   ]
  },
  {
   "cell_type": "code",
   "execution_count": 3,
   "id": "cb25d53d-6e0b-4b1e-b114-12d82f617b25",
   "metadata": {},
   "outputs": [
    {
     "name": "stdout",
     "output_type": "stream",
     "text": [
      "['str-dspn-model1', 'str-dspn-model2', 'str-fs-model1', 'model2']\n",
      "\n",
      "tranfering source: \n",
      "\texample_models/str-dspn-model1 \n",
      "to destination \n",
      "\tTransfered_models/dspn/str-dspn-model1\n",
      "\n",
      "using opt_file: hall_of_fame.json\n",
      "\n",
      "mechanims file transfer complete\n",
      "Parameter file transfer complete\n",
      "Morphology file transfer complete\n",
      "\n",
      "---transfer complete---\n",
      "\n",
      "tranfering source: \n",
      "\texample_models/str-dspn-model2 \n",
      "to destination \n",
      "\tTransfered_models/dspn/str-dspn-model2\n",
      "\n",
      "using opt_file: best_models.json\n",
      "\n",
      "mechanims file transfer complete\n",
      "Parameter file transfer complete\n",
      "Morphology file transfer complete\n",
      "\n",
      "---transfer complete---\n",
      "\n",
      "Destination: Transfered_models/fs/str-fs-model1 \n",
      "already exists\n",
      "--> skipping\n",
      "\n",
      "celltype can not be extracted from the model name of: model2\n",
      "in order to work with batch transfer, model names have to be in the format:\n",
      "region-type-additional_info, e.g. str-dspn-...\n",
      "--> skipping\n"
     ]
    }
   ],
   "source": [
    "# transfer all models in subfolders \n",
    "source = 'example_models/'\n",
    "destination = 'Transfered_models/'\n",
    "\n",
    "# the transfer will skipp folders that already exists in the output (so will skip the folder above if these notebook cells are run in sequence)\n",
    "\n",
    "# transfer\n",
    "st.transfer_all(source, destination)"
   ]
  },
  {
   "cell_type": "markdown",
   "id": "6c87e2ab-995b-422f-ab69-6f4c7428164f",
   "metadata": {},
   "source": [
    "## Verify transfer by simulation\n",
    "Below simulations will only work if the original model has hoc versions of the models stored in a subfolder named checkpoints.  \n",
    "\n",
    "Use command:\n",
    "\n",
    "> python simulate.py -p example_models/str-dspn-model2/ -o Transfered_models/dspn/str-dspn-model2/ -s 0 -u 1\n",
    "\n",
    "where -p is path to the reference model (BPO)  \n",
    "-o is the flag for the output model (transfered)  \n",
    "-s is a flag deciding if to print psection or not (see below, 0/1)\n",
    "-u tells the script to sort the parameters into a structured file\n",
    "\n",
    "for all options use:\n",
    "\n",
    "> python simulate.py -h\n",
    "\n",
    "Here direct comparison of simulations in the two setups is used to verify the transfer. Another way to verify models would be to compare the output of  \n",
    "\n",
    ">for sec in h.allsec():  \n",
    ">>    h.psection(sec=sec)  \n",
    "\n",
    "if the output of this command is identical for transfered and reference models, and the mechanisms are identical -> the models are idential"
   ]
  },
  {
   "cell_type": "code",
   "execution_count": 4,
   "id": "524c13aa-b490-42f5-83d0-ceb40fc5fe65",
   "metadata": {},
   "outputs": [],
   "source": [
    "# or run here... \n",
    "import simulate as sim"
   ]
  },
  {
   "cell_type": "code",
   "execution_count": 5,
   "id": "0cabfeb1-a9dc-4553-91af-05866836910b",
   "metadata": {},
   "outputs": [
    {
     "name": "stderr",
     "output_type": "stream",
     "text": [
      "/home/robert/.local/bin/nrnivmodl:10: DeprecationWarning: pkg_resources is deprecated as an API. See https://setuptools.pypa.io/en/latest/pkg_resources.html\n",
      "  from pkg_resources import working_set\n"
     ]
    },
    {
     "name": "stdout",
     "output_type": "stream",
     "text": [
      "/home/HDD-drive/Repos/BasalGangliaData/examples/example_models/str-dspn-model2/checkpoints\n",
      "Mod files: \"../mechanisms/../mechanisms/bk_ms.mod\" \"../mechanisms/../mechanisms/cadyn_ms.mod\" \"../mechanisms/../mechanisms/cal12_ms.mod\" \"../mechanisms/../mechanisms/cal13_ms.mod\" \"../mechanisms/../mechanisms/caldyn_ms.mod\" \"../mechanisms/../mechanisms/can_ms.mod\" \"../mechanisms/../mechanisms/caq_ms.mod\" \"../mechanisms/../mechanisms/car_ms.mod\" \"../mechanisms/../mechanisms/cat32_ms.mod\" \"../mechanisms/../mechanisms/cat33_ms.mod\" \"../mechanisms/../mechanisms/Im_ms.mod\" \"../mechanisms/../mechanisms/kaf_ms.mod\" \"../mechanisms/../mechanisms/kas_ms.mod\" \"../mechanisms/../mechanisms/kdr_ms.mod\" \"../mechanisms/../mechanisms/kir_ms.mod\" \"../mechanisms/../mechanisms/naf_ms.mod\" \"../mechanisms/../mechanisms/sk_ms.mod\"\n",
      "\n",
      "Creating 'x86_64' directory for .o files.\n",
      "\n",
      " -> \u001b[32mCompiling\u001b[0m mod_func.cpp\n",
      " -> \u001b[32mNMODL\u001b[0m ../../mechanisms/bk_ms.mod\n",
      " -> \u001b[32mNMODL\u001b[0m ../../mechanisms/cadyn_ms.mod\n",
      " -> \u001b[32mNMODL\u001b[0m ../../mechanisms/cal12_ms.mod\n",
      " -> \u001b[32mNMODL\u001b[0m ../../mechanisms/cal13_ms.mod\n",
      " -> \u001b[32mNMODL\u001b[0m ../../mechanisms/caldyn_ms.mod\n",
      " -> \u001b[32mNMODL\u001b[0m ../../mechanisms/can_ms.mod\n",
      " -> \u001b[32mNMODL\u001b[0m ../../mechanisms/caq_ms.mod\n",
      " -> \u001b[32mNMODL\u001b[0m ../../mechanisms/car_ms.mod\n",
      " -> \u001b[32mNMODL\u001b[0m ../../mechanisms/cat32_ms.mod\n",
      " -> \u001b[32mNMODL\u001b[0m ../../mechanisms/cat33_ms.mod\n"
     ]
    },
    {
     "name": "stderr",
     "output_type": "stream",
     "text": [
      "Translating bk_ms.mod into /home/HDD-drive/Repos/BasalGangliaData/examples/example_models/str-dspn-model2/checkpoints/x86_64/bk_ms.c\n",
      "Translating cadyn_ms.mod into /home/HDD-drive/Repos/BasalGangliaData/examples/example_models/str-dspn-model2/checkpoints/x86_64/cadyn_ms.c\n",
      "Translating cal12_ms.mod into /home/HDD-drive/Repos/BasalGangliaData/examples/example_models/str-dspn-model2/checkpoints/x86_64/cal12_ms.c\n",
      "Thread Safe\n",
      "Thread Safe\n",
      "Thread Safe\n",
      "Translating cal13_ms.mod into /home/HDD-drive/Repos/BasalGangliaData/examples/example_models/str-dspn-model2/checkpoints/x86_64/cal13_ms.c\n",
      "Translating caldyn_ms.mod into /home/HDD-drive/Repos/BasalGangliaData/examples/example_models/str-dspn-model2/checkpoints/x86_64/caldyn_ms.c\n",
      "Thread Safe\n",
      "Translating can_ms.mod into /home/HDD-drive/Repos/BasalGangliaData/examples/example_models/str-dspn-model2/checkpoints/x86_64/can_ms.c\n",
      "Thread Safe\n",
      "Thread Safe\n",
      "Translating caq_ms.mod into /home/HDD-drive/Repos/BasalGangliaData/examples/example_models/str-dspn-model2/checkpoints/x86_64/caq_ms.c\n",
      "Thread Safe\n",
      "Translating car_ms.mod into /home/HDD-drive/Repos/BasalGangliaData/examples/example_models/str-dspn-model2/checkpoints/x86_64/car_ms.c\n",
      "Translating cat32_ms.mod into /home/HDD-drive/Repos/BasalGangliaData/examples/example_models/str-dspn-model2/checkpoints/x86_64/cat32_ms.c\n",
      "Thread Safe\n",
      "Thread Safe\n",
      "Translating cat33_ms.mod into /home/HDD-drive/Repos/BasalGangliaData/examples/example_models/str-dspn-model2/checkpoints/x86_64/cat33_ms.c\n",
      "Thread Safe\n",
      "Translating Im_ms.mod into /home/HDD-drive/Repos/BasalGangliaData/examples/example_models/str-dspn-model2/checkpoints/x86_64/Im_ms.c\n",
      "Translating kaf_ms.mod into /home/HDD-drive/Repos/BasalGangliaData/examples/example_models/str-dspn-model2/checkpoints/x86_64/kaf_ms.c\n",
      "Thread Safe\n",
      "Translating kas_ms.mod into /home/HDD-drive/Repos/BasalGangliaData/examples/example_models/str-dspn-model2/checkpoints/x86_64/kas_ms.c\n",
      "Thread Safe\n",
      "Thread Safe\n",
      "Translating kdr_ms.mod into /home/HDD-drive/Repos/BasalGangliaData/examples/example_models/str-dspn-model2/checkpoints/x86_64/kdr_ms.c\n",
      "Thread Safe\n",
      "Translating naf_ms.mod into /home/HDD-drive/Repos/BasalGangliaData/examples/example_models/str-dspn-model2/checkpoints/x86_64/naf_ms.c\n",
      "Translating kir_ms.mod into /home/HDD-drive/Repos/BasalGangliaData/examples/example_models/str-dspn-model2/checkpoints/x86_64/kir_ms.c\n",
      "Thread Safe\n",
      "Thread Safe\n",
      "Translating sk_ms.mod into /home/HDD-drive/Repos/BasalGangliaData/examples/example_models/str-dspn-model2/checkpoints/x86_64/sk_ms.c\n",
      "Thread Safe\n"
     ]
    },
    {
     "name": "stdout",
     "output_type": "stream",
     "text": [
      " -> \u001b[32mNMODL\u001b[0m ../../mechanisms/Im_ms.mod\n",
      " -> \u001b[32mNMODL\u001b[0m ../../mechanisms/kaf_ms.mod\n",
      " -> \u001b[32mNMODL\u001b[0m ../../mechanisms/kas_ms.mod\n",
      " -> \u001b[32mNMODL\u001b[0m ../../mechanisms/kdr_ms.mod\n",
      " -> \u001b[32mNMODL\u001b[0m ../../mechanisms/kir_ms.mod\n",
      " -> \u001b[32mNMODL\u001b[0m ../../mechanisms/naf_ms.mod\n",
      " -> \u001b[32mNMODL\u001b[0m ../../mechanisms/sk_ms.mod\n",
      " -> \u001b[32mCompiling\u001b[0m bk_ms.c\n",
      " -> \u001b[32mCompiling\u001b[0m cadyn_ms.c\n",
      " -> \u001b[32mCompiling\u001b[0m cal12_ms.c\n",
      " -> \u001b[32mCompiling\u001b[0m cal13_ms.c\n",
      " -> \u001b[32mCompiling\u001b[0m caldyn_ms.c\n",
      " -> \u001b[32mCompiling\u001b[0m can_ms.c\n",
      " -> \u001b[32mCompiling\u001b[0m caq_ms.c\n",
      " -> \u001b[32mCompiling\u001b[0m car_ms.c\n",
      " -> \u001b[32mCompiling\u001b[0m cat32_ms.c\n",
      " -> \u001b[32mCompiling\u001b[0m cat33_ms.c\n",
      " -> \u001b[32mCompiling\u001b[0m Im_ms.c\n",
      " -> \u001b[32mCompiling\u001b[0m kaf_ms.c\n",
      " -> \u001b[32mCompiling\u001b[0m kas_ms.c\n",
      " -> \u001b[32mCompiling\u001b[0m kdr_ms.c\n",
      " -> \u001b[32mCompiling\u001b[0m kir_ms.c\n",
      " -> \u001b[32mCompiling\u001b[0m naf_ms.c\n",
      " -> \u001b[32mCompiling\u001b[0m sk_ms.c\n",
      " => \u001b[32mLINKING\u001b[0m shared library ./libnrnmech.so\n",
      " => \u001b[32mLINKING\u001b[0m executable ./special LDFLAGS are:    -pthread\n",
      "Successfully created x86_64/special\n",
      "1. simulating reference model...\n",
      "example_models/str-dspn-model2//morphology/21-6-DE-cor-rep-ax-res3.swc\n",
      "2.0 upgrading parameters...\n",
      "-param set Transfered_models/dspn/str-dspn-model2/0 done!\n",
      "2.1 simulating transfered model...\n",
      "3. Comparing models...\n",
      "\t-> models gives identical results\n"
     ]
    },
    {
     "data": {
      "image/png": "[encoded data removed]",
      "text/plain": [
       "<Figure size 1200x800 with 1 Axes>"
      ]
     },
     "metadata": {},
     "output_type": "display_data"
    }
   ],
   "source": [
    "reference_model = 'example_models/str-dspn-model2/'\n",
    "transfered_model = 'Transfered_models/dspn/str-dspn-model2/'\n",
    "model_id = 0\n",
    "\n",
    "t,v = sim.simulate_org_model(   reference_model,\n",
    "                                model_id,\n",
    "                                print_psection=False,\n",
    "                                return_tv=True)\n",
    "    \n",
    "sim.simulate_transfered_model(  reference_model, \n",
    "                                transfered_model, \n",
    "                                model_id,  \n",
    "                                upgrade_params=True,\n",
    "                                print_psection=False,\n",
    "                                ref_tv=[t,v])"
   ]
  },
  {
   "cell_type": "markdown",
   "id": "5d299786-cc9d-4cdc-849c-051da6f5ca31",
   "metadata": {},
   "source": [
    "# Old content: manual transfer\n",
    "below is the old content, explaining the format expected and the basic commands.  \n",
    "If simple transfers fails, try these instead.\n",
    "\n",
    "## Option 1: Give the path to specific files\n",
    "all below describes the basic underlying structure and commands used in simple_transfer.py.  \n",
    "In order to transfer validated morp-parameter combinations use the last option (not tested in simple_transfer yet)"
   ]
  },
  {
   "cell_type": "markdown",
   "id": "40ad9220-b4b6-4e0c-8e51-adf7f6a274fd",
   "metadata": {},
   "source": [
    "### Required files\n",
    "    Mandatory\n",
    "    * parameters.json\n",
    "    * mechanisms.json\n",
    "    vERSION - either 1 or 2 or 2 + 3\n",
    "        1. best_models.json (if you are using the direct output of the optimizer)\n",
    "        2. hall_of_fame.json (if you have filtered the parameter sets against more validations)\n",
    "        3. val_models.json (if you  have varied the morphology used within the original optimization and hence have more morph-parameter combinations)"
   ]
  },
  {
   "cell_type": "markdown",
   "id": "b5259388-09fa-4b22-b7d7-07f4bbb964b1",
   "metadata": {},
   "source": [
    "## Option 2: Follow the structure of the BluePyOpt model directory"
   ]
  },
  {
   "cell_type": "markdown",
   "id": "0c9aa334-1345-460a-9280-2e3660f49815",
   "metadata": {},
   "source": [
    "The model optimisation could be a folder, containing the follow files and subdirectories:\n",
    "\n",
    "    model/\n",
    "        config/\n",
    "                parameters.json\n",
    "                mechanisms.json\n",
    "        morphology/\n",
    "                contain one or several morphologies (.swc)\n",
    "                used for the model\n",
    "        hall_of_fame.json ( contain the parameter sets - the results of the optimisation)\n",
    "        val_models.json ( optional file, if several morphologies are used, the parameter sets which match each morphology)\n",
    "        \n",
    "For an example of the structure and contents of the files, see **BasalGangliaData/tests/test_data/example_variation_source**\n",
    "\n",
    "*Contact Alex Kozlov for more information   "
   ]
  },
  {
   "cell_type": "markdown",
   "id": "470ffd11-1226-43f7-b4f5-7a861c6c754f",
   "metadata": {},
   "source": [
    "# Examples"
   ]
  },
  {
   "cell_type": "markdown",
   "id": "05a0b352-e141-4188-a663-137633f81339",
   "metadata": {},
   "source": [
    "Create directory for the model.\n",
    "```\n",
    "    Within BasalGangliaData, the models used in Snudda are saved under\n",
    "    BasalGangliaData/data/neurons/name_of_nucleus\n",
    "\n",
    "    **If the nucleus does not exist, add a folder for the new nucleus**\n",
    "\n",
    "    Next create (if it does not already exist), a folder for each cell type within the nucleus\n",
    "\n",
    "    Lastly, create the folder for each model of the cell type \n",
    "    (this folder will be the **destination** used in the code below)\n",
    "\n",
    "     For example,\n",
    "\n",
    "     BasalGanglia/data/neurons/newnucleus/new_celltype/new_model\n",
    "```    "
   ]
  },
  {
   "cell_type": "code",
   "execution_count": 4,
   "id": "fb9357b1-99af-488e-8d92-c9e50e8b1d91",
   "metadata": {},
   "outputs": [],
   "source": [
    "\n",
    "import sys\n",
    "sys.path.append(\"../tools\")\n",
    "source = \"where the Bluepyopt optimisation, with the structure described above\"\n",
    "destination = \"tmp/stn/type-1/model-1\"\n"
   ]
  },
  {
   "cell_type": "markdown",
   "id": "7b8293d8-101a-4435-8f95-2abeb2adb480",
   "metadata": {},
   "source": [
    "## Option 1 - version 1"
   ]
  },
  {
   "cell_type": "code",
   "execution_count": 5,
   "id": "c9b5d50c-73b1-4f5a-9586-d053751479cc",
   "metadata": {},
   "outputs": [
    {
     "ename": "FileNotFoundError",
     "evalue": "[Errno 2] No such file or directory: 'tmp/stn/type-1/model-1'",
     "output_type": "error",
     "traceback": [
      "\u001b[0;31m---------------------------------------------------------------------------\u001b[0m",
      "\u001b[0;31mFileNotFoundError\u001b[0m                         Traceback (most recent call last)",
      "Cell \u001b[0;32mIn[5], line 3\u001b[0m\n\u001b[1;32m      1\u001b[0m \u001b[38;5;28;01mfrom\u001b[39;00m \u001b[38;5;21;01mtransfer\u001b[39;00m\u001b[38;5;21;01m.\u001b[39;00m\u001b[38;5;21;01mmechanisms\u001b[39;00m \u001b[38;5;28;01mimport\u001b[39;00m transfer_mechanisms\n\u001b[1;32m      2\u001b[0m path_to_mechanisms \u001b[38;5;241m=\u001b[39m \u001b[38;5;124m\"\u001b[39m\u001b[38;5;124m/home/jofrony/Desktop/STN_optimize/config\u001b[39m\u001b[38;5;124m\"\u001b[39m\n\u001b[0;32m----> 3\u001b[0m \u001b[43mtransfer_mechanisms\u001b[49m\u001b[43m(\u001b[49m\u001b[43mdirect_path\u001b[49m\u001b[38;5;241;43m=\u001b[39;49m\u001b[43mpath_to_mechanisms\u001b[49m\u001b[43m,\u001b[49m\u001b[43m \u001b[49m\u001b[43mdestination\u001b[49m\u001b[38;5;241;43m=\u001b[39;49m\u001b[43mdestination\u001b[49m\u001b[43m)\u001b[49m\n",
      "File \u001b[0;32m/home/HDD-drive/Repos/BasalGangliaData/examples/../tools/transfer/mechanisms.py:22\u001b[0m, in \u001b[0;36mtransfer_mechanisms\u001b[0;34m(source, destination, direct_path)\u001b[0m\n\u001b[1;32m     20\u001b[0m \u001b[38;5;66;03m#check if dir exists , if not, create\u001b[39;00m\n\u001b[1;32m     21\u001b[0m \u001b[38;5;28;01mif\u001b[39;00m \u001b[38;5;129;01mnot\u001b[39;00m os\u001b[38;5;241m.\u001b[39mpath\u001b[38;5;241m.\u001b[39mexists(destination):\n\u001b[0;32m---> 22\u001b[0m     \u001b[43mos\u001b[49m\u001b[38;5;241;43m.\u001b[39;49m\u001b[43mmkdir\u001b[49m\u001b[43m(\u001b[49m\u001b[43mdestination\u001b[49m\u001b[43m)\u001b[49m\n\u001b[1;32m     23\u001b[0m shutil\u001b[38;5;241m.\u001b[39mcopy(mechanisms_path, os\u001b[38;5;241m.\u001b[39mpath\u001b[38;5;241m.\u001b[39mjoin(destination, \u001b[38;5;124m\"\u001b[39m\u001b[38;5;124mmechanisms.json\u001b[39m\u001b[38;5;124m\"\u001b[39m))\n\u001b[1;32m     25\u001b[0m \u001b[38;5;28mprint\u001b[39m(\u001b[38;5;124m\"\u001b[39m\u001b[38;5;124mmechanims file transfer complete\u001b[39m\u001b[38;5;124m\"\u001b[39m)\n",
      "\u001b[0;31mFileNotFoundError\u001b[0m: [Errno 2] No such file or directory: 'tmp/stn/type-1/model-1'"
     ]
    }
   ],
   "source": [
    "from transfer.mechanisms import transfer_mechanisms\n",
    "path_to_mechanisms = \"/home/jofrony/Desktop/STN_optimize/config\"\n",
    "transfer_mechanisms(direct_path=path_to_mechanisms, destination=destination)\n",
    "\n",
    "\n"
   ]
  },
  {
   "cell_type": "code",
   "execution_count": null,
   "id": "89db1548-1e93-4541-815b-e45140be8852",
   "metadata": {},
   "outputs": [],
   "source": [
    "from transfer.parameters import transfer_parameters\n",
    "direct_path_param=\"/home/jofrony/Desktop/STN_optimize/config/parameters.json\"\n",
    "direct_path_best_models=\"/home/jofrony/Desktop/STN_optimize/Results/all/OPFigures22/best_models.json\"\n",
    "\n",
    "transfer_parameters(direct_path_param=direct_path_param,\n",
    "                        direct_path_best_models=direct_path_best_models, destination=destination)"
   ]
  },
  {
   "cell_type": "code",
   "execution_count": null,
   "id": "b812d0c1-3a17-43be-a1ea-f664954e3403",
   "metadata": {},
   "outputs": [],
   "source": [
    "\n",
    "from transfer.morphology import transfer_morphologies\n",
    "direct_path_morph = \"/home/jofrony/Desktop/STN_optimize/morphology\"\n",
    "transfer_morphologies(direct_path_morph=direct_path_morph,\n",
    "                              destination=destination)\n"
   ]
  },
  {
   "cell_type": "code",
   "execution_count": null,
   "id": "ad4a6406-479d-4bcc-ac1a-0aaab3a61151",
   "metadata": {},
   "outputs": [],
   "source": [
    "from meta.create_meta import write_meta\n",
    "write_meta(directory=destination)"
   ]
  },
  {
   "cell_type": "markdown",
   "id": "e1553dc5-6924-49e7-b1a6-f3ca2cc9fb86",
   "metadata": {},
   "source": [
    "## Option 1 - version 2 \n",
    "\n",
    "Exchange best_models.json for hall_of_fame.json"
   ]
  },
  {
   "cell_type": "markdown",
   "id": "5563dd80-8e6b-4bd7-a789-6cf9d6b46c91",
   "metadata": {},
   "source": [
    "## Option 1 - version 2 + 3"
   ]
  },
  {
   "cell_type": "markdown",
   "id": "e95701d6-355e-458e-93bc-50665d141e04",
   "metadata": {
    "tags": []
   },
   "source": [
    "### Transfer selected models from val_models.json"
   ]
  },
  {
   "cell_type": "code",
   "execution_count": null,
   "id": "51c6280a-9c75-4cd1-8f99-81e9e4fb968f",
   "metadata": {},
   "outputs": [],
   "source": [
    "from transfer.selected_models import transfer_selected_models\n",
    "transfer_selected_models(source, destination)"
   ]
  }
 ],
 "metadata": {
  "kernelspec": {
   "display_name": "Python 3 (ipykernel)",
   "language": "python",
   "name": "python3"
  },
  "language_info": {
   "codemirror_mode": {
    "name": "ipython",
    "version": 3
   },
   "file_extension": ".py",
   "mimetype": "text/x-python",
   "name": "python",
   "nbconvert_exporter": "python",
   "pygments_lexer": "ipython3",
   "version": "3.12.3"
  }
 },
 "nbformat": 4,
 "nbformat_minor": 5
}
