{
 "cells": [
  {
   "cell_type": "markdown",
   "id": "5d299786-cc9d-4cdc-849c-051da6f5ca31",
   "metadata": {},
   "source": [
    "## Option 1: Give the path to specific files"
   ]
  },
  {
   "cell_type": "markdown",
   "id": "40ad9220-b4b6-4e0c-8e51-adf7f6a274fd",
   "metadata": {},
   "source": [
    "### Required files\n",
    "    Mandatory\n",
    "    * parameters.json\n",
    "    * mechanisms.json\n",
    "    vERSION - either 1 or 2 or 2 + 3\n",
    "        1. best_models.json (if you are using the direct output of the optimizer)\n",
    "        2. hall_of_fame.json (if you have filtered the parameter sets against more validations)\n",
    "        3. val_models.json (if you  have varied the morphology used within the original optimization and hence have more morph-parameter combinations)"
   ]
  },
  {
   "cell_type": "markdown",
   "id": "b5259388-09fa-4b22-b7d7-07f4bbb964b1",
   "metadata": {},
   "source": [
    "## Option 2: Follow the structure of the BluePyOpt model directory"
   ]
  },
  {
   "cell_type": "markdown",
   "id": "0c9aa334-1345-460a-9280-2e3660f49815",
   "metadata": {},
   "source": [
    "The model optimisation could be a folder, containing the follow files and subdirectories:\n",
    "\n",
    "    model/\n",
    "        config/\n",
    "                parameters.json\n",
    "                mechanisms.json\n",
    "        morphology/\n",
    "                contain one or several morphologies (.swc)\n",
    "                used for the model\n",
    "        hall_of_fame.json ( contain the parameter sets - the results of the optimisation)\n",
    "        val_models.json ( optional file, if several morphologies are used, the parameter sets which match each morphology)\n",
    "        \n",
    "For an example of the structure and contents of the files, see **BasalGangliaData/tests/test_data/example_variation_source**\n",
    "\n",
    "*Contact Alex Kozlov for more information   "
   ]
  },
  {
   "cell_type": "markdown",
   "id": "470ffd11-1226-43f7-b4f5-7a861c6c754f",
   "metadata": {},
   "source": [
    "# Examples"
   ]
  },
  {
   "cell_type": "markdown",
   "id": "05a0b352-e141-4188-a663-137633f81339",
   "metadata": {},
   "source": [
    "Create directory for the model.\n",
    "```\n",
    "    Within BasalGangliaData, the models used in Snudda are saved under\n",
    "    BasalGangliaData/data/neurons/name_of_nucleus\n",
    "\n",
    "    **If the nucleus does not exist, add a folder for the new nucleus**\n",
    "\n",
    "    Next create (if it does not already exist), a folder for each cell type within the nucleus\n",
    "\n",
    "    Lastly, create the folder for each model of the cell type \n",
    "    (this folder will be the **destination** used in the code below)\n",
    "\n",
    "     For example,\n",
    "\n",
    "     BasalGanglia/data/neurons/newnucleus/new_celltype/new_model\n",
    "```    "
   ]
  },
  {
   "cell_type": "code",
   "execution_count": 1,
   "id": "fb9357b1-99af-488e-8d92-c9e50e8b1d91",
   "metadata": {},
   "outputs": [],
   "source": [
    "\n",
    "import sys\n",
    "sys.path.append(\"../tools\")\n",
    "source = \"where the Bluepyopt optimisation, with the structure described above\"\n",
    "destination = \"tmp/stn/type-1/model-1\"\n"
   ]
  },
  {
   "cell_type": "markdown",
   "id": "7b8293d8-101a-4435-8f95-2abeb2adb480",
   "metadata": {},
   "source": [
    "## Option 1 - version 1"
   ]
  },
  {
   "cell_type": "code",
   "execution_count": null,
   "id": "c9b5d50c-73b1-4f5a-9586-d053751479cc",
   "metadata": {},
   "outputs": [],
   "source": [
    "from transfer.mechanisms import transfer_mechanisms\n",
    "path_to_mechanisms = \"/home/jofrony/Desktop/STN_optimize/config\"\n",
    "transfer_mechanisms(direct_path=path_to_mechanisms, destination=destination)\n",
    "\n",
    "\n"
   ]
  },
  {
   "cell_type": "code",
   "execution_count": null,
   "id": "89db1548-1e93-4541-815b-e45140be8852",
   "metadata": {},
   "outputs": [],
   "source": [
    "from transfer.parameters import transfer_parameters\n",
    "direct_path_param=\"/home/jofrony/Desktop/STN_optimize/config/parameters.json\"\n",
    "direct_path_best_models=\"/home/jofrony/Desktop/STN_optimize/Results/all/OPFigures22/best_models.json\"\n",
    "\n",
    "transfer_parameters(direct_path_param=direct_path_param,\n",
    "                        direct_path_best_models=direct_path_best_models, destination=destination)"
   ]
  },
  {
   "cell_type": "code",
   "execution_count": 3,
   "id": "b812d0c1-3a17-43be-a1ea-f664954e3403",
   "metadata": {},
   "outputs": [
    {
     "name": "stdout",
     "output_type": "stream",
     "text": [
      "Morphology file transfer complete \n",
      " \n",
      "from : None \n",
      "to : tmp/stn/type-1/model-1 \n",
      "\n"
     ]
    }
   ],
   "source": [
    "\n",
    "from transfer.morphology import transfer_morphologies\n",
    "direct_path_morph = \"/home/jofrony/Desktop/STN_optimize/morphology\"\n",
    "transfer_morphologies(direct_path_morph=direct_path_morph,\n",
    "                              destination=destination)\n"
   ]
  },
  {
   "cell_type": "code",
   "execution_count": 4,
   "id": "ad4a6406-479d-4bcc-ac1a-0aaab3a61151",
   "metadata": {},
   "outputs": [],
   "source": [
    "from meta.create_meta import write_meta\n",
    "write_meta(directory=destination)"
   ]
  },
  {
   "cell_type": "markdown",
   "id": "e1553dc5-6924-49e7-b1a6-f3ca2cc9fb86",
   "metadata": {},
   "source": [
    "## Option 1 - version 2 \n",
    "\n",
    "Exchange best_models.json for hall_of_fame.json"
   ]
  },
  {
   "cell_type": "markdown",
   "id": "5563dd80-8e6b-4bd7-a789-6cf9d6b46c91",
   "metadata": {},
   "source": [
    "## Option 1 - version 2 + 3"
   ]
  },
  {
   "cell_type": "markdown",
   "id": "e95701d6-355e-458e-93bc-50665d141e04",
   "metadata": {
    "tags": []
   },
   "source": [
    "### Transfer selected models from val_models.json"
   ]
  },
  {
   "cell_type": "code",
   "execution_count": null,
   "id": "51c6280a-9c75-4cd1-8f99-81e9e4fb968f",
   "metadata": {},
   "outputs": [],
   "source": [
    "from transfer.selected_models import transfer_selected_models\n",
    "transfer_selected_models(source, destination)"
   ]
  },
  {
   "cell_type": "markdown",
   "id": "64f2fbfb-3558-40a9-9321-74b41423d907",
   "metadata": {},
   "source": [
    "## Option 2\n",
    "\n",
    "See example folder in example-option-2"
   ]
  },
  {
   "cell_type": "code",
   "execution_count": null,
   "id": "8a06392e-744e-4f15-8951-c7e3cf661355",
   "metadata": {},
   "outputs": [],
   "source": []
  }
 ],
 "metadata": {
  "kernelspec": {
   "display_name": "Python 3",
   "language": "python",
   "name": "python3"
  },
  "language_info": {
   "codemirror_mode": {
    "name": "ipython",
    "version": 3
   },
   "file_extension": ".py",
   "mimetype": "text/x-python",
   "name": "python",
   "nbconvert_exporter": "python",
   "pygments_lexer": "ipython3",
   "version": "3.7.10"
  }
 },
 "nbformat": 4,
 "nbformat_minor": 5
}
