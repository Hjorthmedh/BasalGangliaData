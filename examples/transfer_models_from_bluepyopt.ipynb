{
 "cells": [
  {
   "cell_type": "markdown",
   "id": "3c28c787-589c-4017-9a6a-af85eac75fca",
   "metadata": {},
   "source": [
    "# Example on how to transfer models from BPO to snudda\n",
    "The easiest way to transfer models is to use the script:  \n",
    "**simple_transfer.py**  \n",
    "\n",
    "If simple_transfer.py fails, use the below basic options\n",
    "\n",
    "### Examples\n",
    "Transfer one model from *source* (-s) and store in *destination* (-d):  \n",
    "\n",
    ">python simple_transfer.py **-s** ../../Alex_model_repo/models/optim/HBP-2022Q2/str-fs-e161205_FS1-mBE104E-v20220614/\n",
    ">                          **-d** ../data/neurons/striatum/fs/\n",
    "\n",
    "To transfer all the models in a directory, use the below command:  \n",
    "\n",
    ">python simple_transfer.py **-s** ../../Alex_model_repo/models/optim/HBP-2022Q2/ **-d** ../data/neurons/striatum/  **-a 1**\n",
    "\n",
    "which will transfer all the models in the subdir of HBP-2022Q2 and sort them into respective model directory of striatum (e.g. dspn or fs).  \n",
    "If the model subdir of striatum does not exists, it will be created.  \n",
    "\n",
    "In order to se all the options, run below command in a terminal:  \n",
    "\n",
    ">python simple_transfer.py -h\n",
    "\n",
    "The transfer is an automated version of the 3 options described below.\n",
    "\n",
    "**TODO:** \n",
    "* show non-terminal example here as well\n",
    "\n",
    "## Prefer to transfer from here directly (or in a script)?\n",
    "use below examples with updated source and destination"
   ]
  },
  {
   "cell_type": "code",
   "execution_count": 1,
   "id": "8d9857e1-dcd5-4349-9a4d-83ad8b533166",
   "metadata": {},
   "outputs": [],
   "source": [
    "import os, shutil\n",
    "import simple_transfer as st"
   ]
  },
  {
   "cell_type": "code",
   "execution_count": 2,
   "id": "9dc9e294-d7d3-47d2-aebc-216783957326",
   "metadata": {},
   "outputs": [
    {
     "name": "stdout",
     "output_type": "stream",
     "text": [
      "tranfering source: \n",
      "\t../../Alex_model_repo/models/optim/HBP-2022Q2/str-fs-e161205_FS1-mBE104E-v20220614/ \n",
      "to destination \n",
      "\t../data/neurons/striatum/fs/str-fs-e161205_FS1-mBE104E-v20220614/\n",
      "using var_models.json\n",
      "\n",
      "mechanims file transfer complete\n",
      "Parameter file transfer complete\n",
      "Morphology file transfer complete\n",
      "\n",
      "---transfer complete---\n"
     ]
    }
   ],
   "source": [
    "# single file\n",
    "source = '../../Alex_model_repo/models/optim/HBP-2022Q2/str-fs-e161205_FS1-mBE104E-v20220614/'\n",
    "folder = os.path.basename(os.path.normpath(source))\n",
    "destination = f'../data/neurons/striatum/fs/{folder}'\n",
    "\n",
    "# the transfer can only be done if the folder does not exist\n",
    "# CAREFUL: the below command will delete the destination if it already exists (and is a folder)\n",
    "if os.path.exists(destination) and os.path.isdir(destination):\n",
    "    shutil.rmtree(destination)\n",
    "# transfer\n",
    "st.transfer_single(source, destination)"
   ]
  },
  {
   "cell_type": "code",
   "execution_count": 3,
   "id": "cb25d53d-6e0b-4b1e-b114-12d82f617b25",
   "metadata": {},
   "outputs": [
    {
     "name": "stdout",
     "output_type": "stream",
     "text": [
      "['str-ispn-e150908_c4_D2-m51-5-DE-v20220622', 'str-dspn-e150602_c1_D1-mWT-0728MSN01-v20220620', 'str-dspn-e150917_c6_D1-m21-6-DE-v20220623', 'str-fs-e180418_FS5-mMTC251001A-IDB-v20220614', 'str-fs-e161205_FS1-mMTC180800A-IDB-v20220614', 'str-ispn-e150917_c11_D2-mWT-MSN1-v20220623', 'str-fs-e161024_FS16-mDR-rat-Mar-13-08-1-536-R-v20220614', 'str-fs-e161205_FS1-mBE104E-v20220614', 'str-fs-e160628_FS2-mMTC180800A-IDB-v20220614', 'str-ispn-e151123_c1_D2-mWT-P270-09-v20220623', 'str-dspn-e150917_c9_d1-mWT-1215MSN03-v20220620', 'str-ispn-e160118_c10_D2-m46-3-DE-v20220622', 'str-dspn-e150917_c10_D1-mWT-P270-20-v20220620']\n",
      "tranfering source: \n",
      "\t../../Alex_model_repo/models/optim/HBP-2022Q2/str-ispn-e150908_c4_D2-m51-5-DE-v20220622 \n",
      "to destination \n",
      "\t../data/neurons/striatum/ispn/str-ispn-e150908_c4_D2-m51-5-DE-v20220622\n",
      "using var_models.json\n",
      "\n",
      "mechanims file transfer complete\n",
      "Parameter file transfer complete\n",
      "Morphology file transfer complete\n",
      "\n",
      "---transfer complete---\n",
      "tranfering source: \n",
      "\t../../Alex_model_repo/models/optim/HBP-2022Q2/str-dspn-e150602_c1_D1-mWT-0728MSN01-v20220620 \n",
      "to destination \n",
      "\t../data/neurons/striatum/dspn/str-dspn-e150602_c1_D1-mWT-0728MSN01-v20220620\n",
      "using var_models.json\n",
      "\n",
      "mechanims file transfer complete\n",
      "Parameter file transfer complete\n",
      "Morphology file transfer complete\n",
      "\n",
      "---transfer complete---\n",
      "tranfering source: \n",
      "\t../../Alex_model_repo/models/optim/HBP-2022Q2/str-dspn-e150917_c6_D1-m21-6-DE-v20220623 \n",
      "to destination \n",
      "\t../data/neurons/striatum/dspn/str-dspn-e150917_c6_D1-m21-6-DE-v20220623\n",
      "using var_models.json\n",
      "\n",
      "mechanims file transfer complete\n",
      "Parameter file transfer complete\n",
      "Morphology file transfer complete\n",
      "\n",
      "---transfer complete---\n",
      "tranfering source: \n",
      "\t../../Alex_model_repo/models/optim/HBP-2022Q2/str-fs-e180418_FS5-mMTC251001A-IDB-v20220614 \n",
      "to destination \n",
      "\t../data/neurons/striatum/fs/str-fs-e180418_FS5-mMTC251001A-IDB-v20220614\n",
      "using var_models.json\n",
      "\n",
      "mechanims file transfer complete\n",
      "Parameter file transfer complete\n",
      "Morphology file transfer complete\n",
      "\n",
      "---transfer complete---\n",
      "tranfering source: \n",
      "\t../../Alex_model_repo/models/optim/HBP-2022Q2/str-fs-e161205_FS1-mMTC180800A-IDB-v20220614 \n",
      "to destination \n",
      "\t../data/neurons/striatum/fs/str-fs-e161205_FS1-mMTC180800A-IDB-v20220614\n",
      "using var_models.json\n",
      "\n",
      "mechanims file transfer complete\n",
      "Parameter file transfer complete\n",
      "Morphology file transfer complete\n",
      "\n",
      "---transfer complete---\n",
      "tranfering source: \n",
      "\t../../Alex_model_repo/models/optim/HBP-2022Q2/str-ispn-e150917_c11_D2-mWT-MSN1-v20220623 \n",
      "to destination \n",
      "\t../data/neurons/striatum/ispn/str-ispn-e150917_c11_D2-mWT-MSN1-v20220623\n",
      "using var_models.json\n",
      "\n",
      "mechanims file transfer complete\n",
      "Parameter file transfer complete\n",
      "Morphology file transfer complete\n",
      "\n",
      "---transfer complete---\n",
      "tranfering source: \n",
      "\t../../Alex_model_repo/models/optim/HBP-2022Q2/str-fs-e161024_FS16-mDR-rat-Mar-13-08-1-536-R-v20220614 \n",
      "to destination \n",
      "\t../data/neurons/striatum/fs/str-fs-e161024_FS16-mDR-rat-Mar-13-08-1-536-R-v20220614\n",
      "using var_models.json\n",
      "\n",
      "mechanims file transfer complete\n",
      "Parameter file transfer complete\n",
      "Morphology file transfer complete\n",
      "\n",
      "---transfer complete---\n",
      "\n",
      "../data/neurons/striatum/fs/str-fs-e161205_FS1-mBE104E-v20220614 \n",
      "already exists--skipping\n",
      "tranfering source: \n",
      "\t../../Alex_model_repo/models/optim/HBP-2022Q2/str-fs-e160628_FS2-mMTC180800A-IDB-v20220614 \n",
      "to destination \n",
      "\t../data/neurons/striatum/fs/str-fs-e160628_FS2-mMTC180800A-IDB-v20220614\n",
      "using var_models.json\n",
      "\n",
      "mechanims file transfer complete\n",
      "Parameter file transfer complete\n",
      "Morphology file transfer complete\n",
      "\n",
      "---transfer complete---\n",
      "tranfering source: \n",
      "\t../../Alex_model_repo/models/optim/HBP-2022Q2/str-ispn-e151123_c1_D2-mWT-P270-09-v20220623 \n",
      "to destination \n",
      "\t../data/neurons/striatum/ispn/str-ispn-e151123_c1_D2-mWT-P270-09-v20220623\n",
      "using var_models.json\n",
      "\n",
      "mechanims file transfer complete\n",
      "Parameter file transfer complete\n",
      "Morphology file transfer complete\n",
      "\n",
      "---transfer complete---\n",
      "tranfering source: \n",
      "\t../../Alex_model_repo/models/optim/HBP-2022Q2/str-dspn-e150917_c9_d1-mWT-1215MSN03-v20220620 \n",
      "to destination \n",
      "\t../data/neurons/striatum/dspn/str-dspn-e150917_c9_d1-mWT-1215MSN03-v20220620\n",
      "using var_models.json\n",
      "\n",
      "mechanims file transfer complete\n",
      "Parameter file transfer complete\n",
      "Morphology file transfer complete\n",
      "\n",
      "---transfer complete---\n",
      "tranfering source: \n",
      "\t../../Alex_model_repo/models/optim/HBP-2022Q2/str-ispn-e160118_c10_D2-m46-3-DE-v20220622 \n",
      "to destination \n",
      "\t../data/neurons/striatum/ispn/str-ispn-e160118_c10_D2-m46-3-DE-v20220622\n",
      "using var_models.json\n",
      "\n",
      "mechanims file transfer complete\n",
      "Parameter file transfer complete\n",
      "Morphology file transfer complete\n",
      "\n",
      "---transfer complete---\n",
      "tranfering source: \n",
      "\t../../Alex_model_repo/models/optim/HBP-2022Q2/str-dspn-e150917_c10_D1-mWT-P270-20-v20220620 \n",
      "to destination \n",
      "\t../data/neurons/striatum/dspn/str-dspn-e150917_c10_D1-mWT-P270-20-v20220620\n",
      "using var_models.json\n",
      "\n",
      "mechanims file transfer complete\n",
      "Parameter file transfer complete\n",
      "Morphology file transfer complete\n",
      "\n",
      "---transfer complete---\n"
     ]
    }
   ],
   "source": [
    "# all models in a folder\n",
    "source = '../../Alex_model_repo/models/optim/HBP-2022Q2/'\n",
    "destination = '../data/neurons/striatum/'\n",
    "\n",
    "# the transfer will skipp folders with that already exists (so will skip the folder above if this is run in sequence)\n",
    "\n",
    "# transfer\n",
    "st.transfer_all(source, destination)"
   ]
  },
  {
   "cell_type": "markdown",
   "id": "5d299786-cc9d-4cdc-849c-051da6f5ca31",
   "metadata": {},
   "source": [
    "below is the old content, explaining the format expected and the basic commands  \n",
    "if simple transfers fails, try these instead.\n",
    "\n",
    "## Option 1: Give the path to specific files\n",
    "all below describes the basic underlying structure and commands used in simple_transfer.py.  \n",
    "In order to transfer validated morp-parameter combinations use the last option (not tested in simple_transfer yet)"
   ]
  },
  {
   "cell_type": "markdown",
   "id": "40ad9220-b4b6-4e0c-8e51-adf7f6a274fd",
   "metadata": {},
   "source": [
    "### Required files\n",
    "    Mandatory\n",
    "    * parameters.json\n",
    "    * mechanisms.json\n",
    "    vERSION - either 1 or 2 or 2 + 3\n",
    "        1. best_models.json (if you are using the direct output of the optimizer)\n",
    "        2. hall_of_fame.json (if you have filtered the parameter sets against more validations)\n",
    "        3. val_models.json (if you  have varied the morphology used within the original optimization and hence have more morph-parameter combinations)"
   ]
  },
  {
   "cell_type": "markdown",
   "id": "b5259388-09fa-4b22-b7d7-07f4bbb964b1",
   "metadata": {},
   "source": [
    "## Option 2: Follow the structure of the BluePyOpt model directory"
   ]
  },
  {
   "cell_type": "markdown",
   "id": "0c9aa334-1345-460a-9280-2e3660f49815",
   "metadata": {},
   "source": [
    "The model optimisation could be a folder, containing the follow files and subdirectories:\n",
    "\n",
    "    model/\n",
    "        config/\n",
    "                parameters.json\n",
    "                mechanisms.json\n",
    "        morphology/\n",
    "                contain one or several morphologies (.swc)\n",
    "                used for the model\n",
    "        hall_of_fame.json ( contain the parameter sets - the results of the optimisation)\n",
    "        val_models.json ( optional file, if several morphologies are used, the parameter sets which match each morphology)\n",
    "        \n",
    "For an example of the structure and contents of the files, see **BasalGangliaData/tests/test_data/example_variation_source**\n",
    "\n",
    "*Contact Alex Kozlov for more information   "
   ]
  },
  {
   "cell_type": "markdown",
   "id": "470ffd11-1226-43f7-b4f5-7a861c6c754f",
   "metadata": {},
   "source": [
    "# Examples"
   ]
  },
  {
   "cell_type": "markdown",
   "id": "05a0b352-e141-4188-a663-137633f81339",
   "metadata": {},
   "source": [
    "Create directory for the model.\n",
    "```\n",
    "    Within BasalGangliaData, the models used in Snudda are saved under\n",
    "    BasalGangliaData/data/neurons/name_of_nucleus\n",
    "\n",
    "    **If the nucleus does not exist, add a folder for the new nucleus**\n",
    "\n",
    "    Next create (if it does not already exist), a folder for each cell type within the nucleus\n",
    "\n",
    "    Lastly, create the folder for each model of the cell type \n",
    "    (this folder will be the **destination** used in the code below)\n",
    "\n",
    "     For example,\n",
    "\n",
    "     BasalGanglia/data/neurons/newnucleus/new_celltype/new_model\n",
    "```    "
   ]
  },
  {
   "cell_type": "code",
   "execution_count": 1,
   "id": "fb9357b1-99af-488e-8d92-c9e50e8b1d91",
   "metadata": {},
   "outputs": [],
   "source": [
    "\n",
    "import sys\n",
    "sys.path.append(\"../tools\")\n",
    "source = \"where the Bluepyopt optimisation, with the structure described above\"\n",
    "destination = \"tmp/stn/type-1/model-1\"\n"
   ]
  },
  {
   "cell_type": "markdown",
   "id": "7b8293d8-101a-4435-8f95-2abeb2adb480",
   "metadata": {},
   "source": [
    "## Option 1 - version 1"
   ]
  },
  {
   "cell_type": "code",
   "execution_count": null,
   "id": "c9b5d50c-73b1-4f5a-9586-d053751479cc",
   "metadata": {},
   "outputs": [],
   "source": [
    "from transfer.mechanisms import transfer_mechanisms\n",
    "path_to_mechanisms = \"/home/jofrony/Desktop/STN_optimize/config\"\n",
    "transfer_mechanisms(direct_path=path_to_mechanisms, destination=destination)\n",
    "\n",
    "\n"
   ]
  },
  {
   "cell_type": "code",
   "execution_count": null,
   "id": "89db1548-1e93-4541-815b-e45140be8852",
   "metadata": {},
   "outputs": [],
   "source": [
    "from transfer.parameters import transfer_parameters\n",
    "direct_path_param=\"/home/jofrony/Desktop/STN_optimize/config/parameters.json\"\n",
    "direct_path_best_models=\"/home/jofrony/Desktop/STN_optimize/Results/all/OPFigures22/best_models.json\"\n",
    "\n",
    "transfer_parameters(direct_path_param=direct_path_param,\n",
    "                        direct_path_best_models=direct_path_best_models, destination=destination)"
   ]
  },
  {
   "cell_type": "code",
   "execution_count": 3,
   "id": "b812d0c1-3a17-43be-a1ea-f664954e3403",
   "metadata": {},
   "outputs": [
    {
     "name": "stdout",
     "output_type": "stream",
     "text": [
      "Morphology file transfer complete \n",
      " \n",
      "from : None \n",
      "to : tmp/stn/type-1/model-1 \n",
      "\n"
     ]
    }
   ],
   "source": [
    "\n",
    "from transfer.morphology import transfer_morphologies\n",
    "direct_path_morph = \"/home/jofrony/Desktop/STN_optimize/morphology\"\n",
    "transfer_morphologies(direct_path_morph=direct_path_morph,\n",
    "                              destination=destination)\n"
   ]
  },
  {
   "cell_type": "code",
   "execution_count": 4,
   "id": "ad4a6406-479d-4bcc-ac1a-0aaab3a61151",
   "metadata": {},
   "outputs": [],
   "source": [
    "from meta.create_meta import write_meta\n",
    "write_meta(directory=destination)"
   ]
  },
  {
   "cell_type": "markdown",
   "id": "e1553dc5-6924-49e7-b1a6-f3ca2cc9fb86",
   "metadata": {},
   "source": [
    "## Option 1 - version 2 \n",
    "\n",
    "Exchange best_models.json for hall_of_fame.json"
   ]
  },
  {
   "cell_type": "markdown",
   "id": "5563dd80-8e6b-4bd7-a789-6cf9d6b46c91",
   "metadata": {},
   "source": [
    "## Option 1 - version 2 + 3"
   ]
  },
  {
   "cell_type": "markdown",
   "id": "e95701d6-355e-458e-93bc-50665d141e04",
   "metadata": {
    "tags": []
   },
   "source": [
    "### Transfer selected models from val_models.json"
   ]
  },
  {
   "cell_type": "code",
   "execution_count": null,
   "id": "51c6280a-9c75-4cd1-8f99-81e9e4fb968f",
   "metadata": {},
   "outputs": [],
   "source": [
    "from transfer.selected_models import transfer_selected_models\n",
    "transfer_selected_models(source, destination)"
   ]
  }
 ],
 "metadata": {
  "kernelspec": {
   "display_name": "Python 3 (ipykernel)",
   "language": "python",
   "name": "python3"
  },
  "language_info": {
   "codemirror_mode": {
    "name": "ipython",
    "version": 3
   },
   "file_extension": ".py",
   "mimetype": "text/x-python",
   "name": "python",
   "nbconvert_exporter": "python",
   "pygments_lexer": "ipython3",
   "version": "3.12.3"
  }
 },
 "nbformat": 4,
 "nbformat_minor": 5
}
